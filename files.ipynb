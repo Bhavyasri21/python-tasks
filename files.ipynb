{
 "cells": [
  {
   "cell_type": "code",
   "execution_count": 5,
   "id": "d9d95746",
   "metadata": {},
   "outputs": [],
   "source": [
    "###files\n",
    "with open('june5/sample.text','w') as s:\n",
    "    s.write(\"hello bhavya...whats going on\")"
   ]
  },
  {
   "cell_type": "code",
   "execution_count": 4,
   "id": "51244918",
   "metadata": {},
   "outputs": [
    {
     "name": "stdout",
     "output_type": "stream",
     "text": [
      "hello bhavya...whats going on\n"
     ]
    }
   ],
   "source": [
    "with open('june5/sample.text','r') as s:\n",
    "    print(s.read())"
   ]
  },
  {
   "cell_type": "code",
   "execution_count": 5,
   "id": "4380a576",
   "metadata": {},
   "outputs": [
    {
     "name": "stdout",
     "output_type": "stream",
     "text": [
      "enter a range:3\n",
      "enter namebhavya\n",
      "enter namesandhya\n",
      "enter namesravani\n"
     ]
    }
   ],
   "source": [
    "###seperate with (,)\n",
    "with open('june5/sample1.text','w') as s:\n",
    "    n=int(input(\"enter a range:\"))\n",
    "    for i in range(1,n+1):\n",
    "        a=input(\"enter name\")\n",
    "        s.write(a+\",\")\n",
    "    \n",
    "    "
   ]
  },
  {
   "cell_type": "code",
   "execution_count": 7,
   "id": "28bc54e6",
   "metadata": {},
   "outputs": [
    {
     "name": "stdout",
     "output_type": "stream",
     "text": [
      "enter a range3\n",
      "enter a name:bhavya\n",
      "enter a name:sandhya\n",
      "enter a name:sravani\n"
     ]
    }
   ],
   "source": [
    "###seperate with new line\n",
    "with open('june5/sample1.text','w') as s:\n",
    "    n=int(input(\"enter a range\"))\n",
    "    for i in range(1,n+1):\n",
    "        a=input(\"enter a name:\")\n",
    "        s.write(a+\"\\n\")"
   ]
  },
  {
   "cell_type": "code",
   "execution_count": 15,
   "id": "fce88c6e",
   "metadata": {},
   "outputs": [
    {
     "name": "stdout",
     "output_type": "stream",
     "text": [
      "bhavya\n",
      "\n"
     ]
    }
   ],
   "source": [
    "###readline\n",
    "with open('june5/sample1.text','r') as r:\n",
    "    s=r.readline()\n",
    "    print(s)"
   ]
  },
  {
   "cell_type": "code",
   "execution_count": 20,
   "id": "bff6e36f",
   "metadata": {},
   "outputs": [
    {
     "name": "stdout",
     "output_type": "stream",
     "text": [
      "bhavya\n",
      "\n",
      "sandhya\n",
      "\n",
      "sravani\n",
      "\n"
     ]
    }
   ],
   "source": [
    "###readlines\n",
    "with open('june5/sample1.text','r') as r:\n",
    "    s=r.readlines()\n",
    "    for i in s:\n",
    "        \n",
    "        i.split(\"/n\")\n",
    "        print(i)"
   ]
  },
  {
   "cell_type": "code",
   "execution_count": 35,
   "id": "2ae6405b",
   "metadata": {
    "scrolled": true
   },
   "outputs": [
    {
     "name": "stdout",
     "output_type": "stream",
     "text": [
      "enter a value:8\n"
     ]
    }
   ],
   "source": [
    "###even numbers\n",
    "with open('june5/sample2.text','w') as w:\n",
    "    n=int(input(\"enter a value:\"))\n",
    "    w.write(\"entered number is:{}\".format(n))\n",
    "    "
   ]
  },
  {
   "cell_type": "code",
   "execution_count": null,
   "id": "c89fa5ca",
   "metadata": {},
   "outputs": [],
   "source": []
  }
 ],
 "metadata": {
  "kernelspec": {
   "display_name": "Python 3",
   "language": "python",
   "name": "python3"
  },
  "language_info": {
   "codemirror_mode": {
    "name": "ipython",
    "version": 3
   },
   "file_extension": ".py",
   "mimetype": "text/x-python",
   "name": "python",
   "nbconvert_exporter": "python",
   "pygments_lexer": "ipython3",
   "version": "3.7.5"
  }
 },
 "nbformat": 4,
 "nbformat_minor": 5
}
