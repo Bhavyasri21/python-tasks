{
 "cells": [
  {
   "cell_type": "code",
   "execution_count": 5,
   "id": "3e5581ef",
   "metadata": {},
   "outputs": [
    {
     "name": "stdout",
     "output_type": "stream",
     "text": [
      "cvbn4567\n",
      "Given string is: cvbn4567\n",
      "Alphbets in cvbn4567 is:cvbn\n",
      "Numbers in  cvbn4567 is:4567\n",
      "special characters  in  cvbn4567 is:\n"
     ]
    }
   ],
   "source": [
    "a=input()\n",
    "digit=\"\"\n",
    "alpa=\"\"\n",
    "special=\"\"\n",
    "print(\"Given string is:\",a)\n",
    "for i in a:\n",
    "    if(i.isalpha()):\n",
    "        alpa=alpa+i\n",
    "    elif(i.isdigit()):\n",
    "        digit=digit+i\n",
    "    else:\n",
    "        special=special+i\n",
    "        \n",
    "print(\"Alphbets in {} is:{}\".format(a,alpa))\n",
    "print(\"Numbers in  {} is:{}\".format(a,digit))\n",
    "print(\"special characters  in  {} is:{}\".format(a,special))\n"
   ]
  },
  {
   "cell_type": "code",
   "execution_count": null,
   "id": "4f966a5d",
   "metadata": {},
   "outputs": [],
   "source": []
  }
 ],
 "metadata": {
  "kernelspec": {
   "display_name": "Python 3",
   "language": "python",
   "name": "python3"
  },
  "language_info": {
   "codemirror_mode": {
    "name": "ipython",
    "version": 3
   },
   "file_extension": ".py",
   "mimetype": "text/x-python",
   "name": "python",
   "nbconvert_exporter": "python",
   "pygments_lexer": "ipython3",
   "version": "3.7.5"
  }
 },
 "nbformat": 4,
 "nbformat_minor": 5
}
