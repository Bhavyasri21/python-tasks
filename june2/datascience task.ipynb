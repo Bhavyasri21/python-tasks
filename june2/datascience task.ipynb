{
 "cells": [
  {
   "cell_type": "code",
   "execution_count": 45,
   "id": "80654b96",
   "metadata": {},
   "outputs": [
    {
     "name": "stdout",
     "output_type": "stream",
     "text": [
      "['__add__', '__class__', '__contains__', '__delattr__', '__dir__', '__doc__', '__eq__', '__format__', '__ge__', '__getattribute__', '__getitem__', '__getnewargs__', '__gt__', '__hash__', '__init__', '__init_subclass__', '__iter__', '__le__', '__len__', '__lt__', '__mod__', '__mul__', '__ne__', '__new__', '__reduce__', '__reduce_ex__', '__repr__', '__rmod__', '__rmul__', '__setattr__', '__sizeof__', '__str__', '__subclasshook__', 'capitalize', 'casefold', 'center', 'count', 'encode', 'endswith', 'expandtabs', 'find', 'format', 'format_map', 'index', 'isalnum', 'isalpha', 'isascii', 'isdecimal', 'isdigit', 'isidentifier', 'islower', 'isnumeric', 'isprintable', 'isspace', 'istitle', 'isupper', 'join', 'ljust', 'lower', 'lstrip', 'maketrans', 'partition', 'replace', 'rfind', 'rindex', 'rjust', 'rpartition', 'rsplit', 'rstrip', 'split', 'splitlines', 'startswith', 'strip', 'swapcase', 'title', 'translate', 'upper', 'zfill']\n"
     ]
    }
   ],
   "source": [
    "print(dir(str))\n"
   ]
  },
  {
   "cell_type": "code",
   "execution_count": 55,
   "id": "082f1dbf",
   "metadata": {},
   "outputs": [
    {
     "name": "stdout",
     "output_type": "stream",
     "text": [
      "enter the radius:2\n",
      "area of circle is: 12.56\n"
     ]
    }
   ],
   "source": [
    "### area of circle\n",
    "pi=3.14\n",
    "r=float(input(\"enter the radius:\"))\n",
    "print(\"area of circle is:\",pi*r*r)\n"
   ]
  },
  {
   "cell_type": "code",
   "execution_count": 57,
   "id": "852f7e35",
   "metadata": {},
   "outputs": [
    {
     "name": "stdout",
     "output_type": "stream",
     "text": [
      "enter the value of square side:2\n",
      "area of square is 4.0\n"
     ]
    }
   ],
   "source": [
    "###Area of square\n",
    "s=float(input(\"enter the value of square side:\"))\n",
    "print(\"area of square is\",s*s)"
   ]
  },
  {
   "cell_type": "code",
   "execution_count": 58,
   "id": "e656306b",
   "metadata": {},
   "outputs": [
    {
     "name": "stdout",
     "output_type": "stream",
     "text": [
      "enter bredth of triangle2\n",
      "enter height of triangle2\n",
      "area of triange is: 2.0\n"
     ]
    }
   ],
   "source": [
    "###Area of triangle\n",
    "b=int(input(\"enter bredth of triangle\"))\n",
    "h=int(input(\"enter height of triangle\"))\n",
    "print(\"area of triange is:\",0.5*b*h)"
   ]
  },
  {
   "cell_type": "code",
   "execution_count": 59,
   "id": "2409d009",
   "metadata": {},
   "outputs": [
    {
     "name": "stdout",
     "output_type": "stream",
     "text": [
      "enter length of rectangle2\n",
      "enter bredth of rectangle2\n",
      "enter height of rectangle2\n",
      "area of rectangle is: 8\n"
     ]
    }
   ],
   "source": [
    "###Area of rectangle\n",
    "l=int(input(\"enter length of rectangle\"))\n",
    "b=int(input(\"enter bredth of rectangle\"))\n",
    "h=int(input(\"enter height of rectangle\"))\n",
    "print(\"area of rectangle is:\",l*b*h )"
   ]
  },
  {
   "cell_type": "code",
   "execution_count": 61,
   "id": "90968946",
   "metadata": {},
   "outputs": [
    {
     "name": "stdout",
     "output_type": "stream",
     "text": [
      "enter m value2\n",
      "enter c value2\n",
      "speed of the light is 4\n"
     ]
    }
   ],
   "source": [
    "###speed of the light\n",
    "m=int(input(\"enter m value\"))\n",
    "c=int(input(\"enter c value\"))\n",
    "print(\"speed of the light is\",pow(m,c))"
   ]
  },
  {
   "cell_type": "code",
   "execution_count": null,
   "id": "54616bc0",
   "metadata": {},
   "outputs": [],
   "source": []
  }
 ],
 "metadata": {
  "kernelspec": {
   "display_name": "Python 3",
   "language": "python",
   "name": "python3"
  },
  "language_info": {
   "codemirror_mode": {
    "name": "ipython",
    "version": 3
   },
   "file_extension": ".py",
   "mimetype": "text/x-python",
   "name": "python",
   "nbconvert_exporter": "python",
   "pygments_lexer": "ipython3",
   "version": "3.7.5"
  }
 },
 "nbformat": 4,
 "nbformat_minor": 5
}
