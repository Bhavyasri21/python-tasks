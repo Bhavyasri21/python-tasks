{
 "cells": [
  {
   "cell_type": "code",
   "execution_count": 8,
   "id": "6a86d932",
   "metadata": {},
   "outputs": [
    {
     "name": "stdout",
     "output_type": "stream",
     "text": [
      "6\n",
      "3.0\n"
     ]
    }
   ],
   "source": [
    "###classes\n",
    "class Airth:\n",
    "    def mul(a,b):\n",
    "        return a*b\n",
    "    def div(a,b):\n",
    "        return a/b\n",
    "obj=airth\n",
    "print(obj.mul(2,3))\n",
    "print(obj.div(6,2))"
   ]
  },
  {
   "cell_type": "code",
   "execution_count": 3,
   "id": "2b123c2e",
   "metadata": {
    "scrolled": true
   },
   "outputs": [
    {
     "name": "stdout",
     "output_type": "stream",
     "text": [
      "default connstructor\n"
     ]
    }
   ],
   "source": [
    "###default constructor\n",
    "class Hello:\n",
    "    def __init__(self):\n",
    "        print(\"default connstructor\")\n",
    "\n",
    "obj = Hello()"
   ]
  },
  {
   "cell_type": "code",
   "execution_count": 6,
   "id": "ebe56a00",
   "metadata": {
    "scrolled": false
   },
   "outputs": [
    {
     "name": "stdout",
     "output_type": "stream",
     "text": [
      "1 2\n"
     ]
    }
   ],
   "source": [
    "###parameter constructor\n",
    "class Hello1:\n",
    "    def __init__(fles,a,b):\n",
    "        print(a,b)\n",
    "\n",
    "obj = Hello1(1,2)"
   ]
  },
  {
   "cell_type": "code",
   "execution_count": 8,
   "id": "49561e2d",
   "metadata": {},
   "outputs": [
    {
     "data": {
      "text/plain": [
       "3"
      ]
     },
     "execution_count": 8,
     "metadata": {},
     "output_type": "execute_result"
    }
   ],
   "source": [
    "class Hello2:\n",
    "    def __init__(fles,a,b):\n",
    "        fles.a=a\n",
    "        fles.b=b\n",
    "    def sum(fles):\n",
    "        return fles.a+fles.b\n",
    "    def sum33(fles):\n",
    "        return fles.a+fles.b+fles.c+fles.d\n",
    "   \n",
    "obj=Hello2(1,2)\n",
    "obj.sum()\n"
   ]
  },
  {
   "cell_type": "code",
   "execution_count": 4,
   "id": "1e9f26f7",
   "metadata": {},
   "outputs": [],
   "source": [
    "###inheritance\n",
    "class parent:\n",
    "    name=\"bhavya\"\n",
    "    val=\"21\"\n",
    "    def display():\n",
    "        print(\"it is parent class\")\n"
   ]
  },
  {
   "cell_type": "code",
   "execution_count": 5,
   "id": "4168be37",
   "metadata": {},
   "outputs": [
    {
     "name": "stdout",
     "output_type": "stream",
     "text": [
      "it is parent class\n",
      "it is child class\n"
     ]
    }
   ],
   "source": [
    "class child(parent):\n",
    "    cname=\"sravani\"\n",
    "    rank=\"100\"\n",
    "    def show():\n",
    "        print(\"it is child class\")\n",
    "obj=child\n",
    "obj.val\n",
    "obj.display()\n",
    "obj.show()"
   ]
  },
  {
   "cell_type": "code",
   "execution_count": null,
   "id": "b9ab70ee",
   "metadata": {},
   "outputs": [],
   "source": []
  }
 ],
 "metadata": {
  "kernelspec": {
   "display_name": "Python 3",
   "language": "python",
   "name": "python3"
  },
  "language_info": {
   "codemirror_mode": {
    "name": "ipython",
    "version": 3
   },
   "file_extension": ".py",
   "mimetype": "text/x-python",
   "name": "python",
   "nbconvert_exporter": "python",
   "pygments_lexer": "ipython3",
   "version": "3.7.5"
  }
 },
 "nbformat": 4,
 "nbformat_minor": 5
}
