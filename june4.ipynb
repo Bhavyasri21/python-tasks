{
 "cells": [
  {
   "cell_type": "code",
   "execution_count": 21,
   "id": "233bcf8c",
   "metadata": {},
   "outputs": [
    {
     "name": "stdout",
     "output_type": "stream",
     "text": [
      "enetr a value234567890\n",
      "even numbers are ['2', '4', '6', '8', '0']\n",
      "odd numbers are ['3', '5', '7', '9']"
     ]
    }
   ],
   "source": [
    "### program to print even and odd\n",
    "\n",
    "def evenodd(n):\n",
    "    c=[]\n",
    "    d=[]\n",
    "    for i in n:\n",
    "        if int(i)%2==0:\n",
    "            c.append(i)\n",
    "            \n",
    "        else:\n",
    "            d.append(i)\n",
    "    print(\"even numbers are\",c,end=\"\\n\")\n",
    "    print(\"odd numbers are\",d,end=\"\")\n",
    "              \n",
    "    return\n",
    "n=input(\"enetr a value\")\n",
    "evenodd(n)\n"
   ]
  },
  {
   "cell_type": "code",
   "execution_count": 23,
   "id": "916624bd",
   "metadata": {},
   "outputs": [
    {
     "name": "stdout",
     "output_type": "stream",
     "text": [
      "enetr a value10\n",
      "even numbers are [2, 4, 6, 8, 10]\n",
      "odd numbers are [1, 3, 5, 7, 9]"
     ]
    }
   ],
   "source": [
    "def evenodd(n):\n",
    "    c=[]\n",
    "    d=[]\n",
    "    for i in range(1,n+1):\n",
    "        if i%2==0:\n",
    "            c.append(i)\n",
    "            \n",
    "        else:\n",
    "            d.append(i)\n",
    "    print(\"even numbers are\",c,end=\"\\n\")\n",
    "    print(\"odd numbers are\",d,end=\"\")\n",
    "              \n",
    "    return\n",
    "n=int(input(\"enetr a value\"))\n",
    "evenodd(n)\n",
    "\n"
   ]
  },
  {
   "cell_type": "code",
   "execution_count": null,
   "id": "17dd9e78",
   "metadata": {},
   "outputs": [],
   "source": [
    "\n"
   ]
  }
 ],
 "metadata": {
  "kernelspec": {
   "display_name": "Python 3",
   "language": "python",
   "name": "python3"
  },
  "language_info": {
   "codemirror_mode": {
    "name": "ipython",
    "version": 3
   },
   "file_extension": ".py",
   "mimetype": "text/x-python",
   "name": "python",
   "nbconvert_exporter": "python",
   "pygments_lexer": "ipython3",
   "version": "3.7.5"
  }
 },
 "nbformat": 4,
 "nbformat_minor": 5
}
